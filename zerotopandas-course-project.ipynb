{
 "cells": [
  {
   "cell_type": "markdown",
   "metadata": {},
   "source": [
    "# zerotopandas-course-project\n",
    "\n",
    "Use the \"Run\" button to execute the code."
   ]
  },
  {
   "cell_type": "code",
   "execution_count": null,
   "metadata": {},
   "outputs": [],
   "source": [
    "!pip install jovian --upgrade --quiet"
   ]
  },
  {
   "cell_type": "code",
   "execution_count": 2,
   "metadata": {},
   "outputs": [],
   "source": [
    "import jovian"
   ]
  },
  {
   "cell_type": "code",
   "execution_count": 3,
   "metadata": {},
   "outputs": [
    {
     "data": {
      "application/javascript": [
       "window.require && require([\"base/js/namespace\"],function(Jupyter){Jupyter.notebook.save_checkpoint()})"
      ],
      "text/plain": [
       "<IPython.core.display.Javascript object>"
      ]
     },
     "metadata": {},
     "output_type": "display_data"
    },
    {
     "name": "stdout",
     "output_type": "stream",
     "text": [
      "[jovian] Updating notebook \"meet/zerotopandas-course-project\" on https://jovian.ai\u001b[0m\n",
      "[jovian] Committed successfully! https://jovian.ai/meet/zerotopandas-course-project\u001b[0m\n"
     ]
    },
    {
     "data": {
      "text/plain": [
       "'https://jovian.ai/meet/zerotopandas-course-project'"
      ]
     },
     "execution_count": 3,
     "metadata": {},
     "output_type": "execute_result"
    }
   ],
   "source": [
    "# Execute this to save new versions of the notebook\n",
    "jovian.commit(project=\"zerotopandas-course-project\")"
   ]
  },
  {
   "cell_type": "markdown",
   "metadata": {},
   "source": []
  },
  {
   "cell_type": "code",
   "execution_count": 8,
   "metadata": {},
   "outputs": [],
   "source": [
    "import numpy as np\n",
    "import pandas as pd\n",
    "import matplotlib.pyplot as plt\n",
    "import seaborn as sns"
   ]
  },
  {
   "cell_type": "code",
   "execution_count": 10,
   "metadata": {},
   "outputs": [],
   "source": [
    "vaccine_df=pd.read_csv(\"covid_vaccine_statewise.csv\")"
   ]
  },
  {
   "cell_type": "code",
   "execution_count": 9,
   "metadata": {},
   "outputs": [
    {
     "name": "stdout",
     "output_type": "stream",
     "text": [
      "TOTAL VACCINE TAKEN BY GROUP OF 60+ = 3810386589.0\n"
     ]
    }
   ],
   "source": [
    "vaccinated_60=vaccine_df['60+ years (Age)'].sum()  #Group of people vaccined above 60+\n",
    "print('TOTAL VACCINE TAKEN BY GROUP OF 60+ = {}'.format(vaccinated_60))"
   ]
  },
  {
   "cell_type": "code",
   "execution_count": 10,
   "metadata": {},
   "outputs": [
    {
     "name": "stdout",
     "output_type": "stream",
     "text": [
      "TOTAL VACCINE TAKEN BY GROUP OF 45-60 = 4012125210.0\n"
     ]
    }
   ],
   "source": [
    "vaccinated_45_60=vaccine_df['45-60 years (Age)'].sum() #Group of people vaccined above 44-60\n",
    "print('TOTAL VACCINE TAKEN BY GROUP OF 45-60 = {}'.format(vaccinated_45_60))\n"
   ]
  },
  {
   "cell_type": "code",
   "execution_count": 11,
   "metadata": {},
   "outputs": [
    {
     "name": "stdout",
     "output_type": "stream",
     "text": [
      "TOTAL VACCINE TAKEN BY GROUP OF 18-44 = 1467875706.0\n"
     ]
    }
   ],
   "source": [
    "vaccinated_18_44=vaccine_df['18-45 years (Age)'].sum() #Group of people vaccined above 18-45\n",
    "print('TOTAL VACCINE TAKEN BY GROUP OF 18-44 = {}'.format(vaccinated_18_44))"
   ]
  },
  {
   "cell_type": "code",
   "execution_count": 12,
   "metadata": {},
   "outputs": [
    {
     "name": "stdout",
     "output_type": "stream",
     "text": [
      "TOTAL DOSES ADMINISTERED ARE = 11912847285.0\n"
     ]
    }
   ],
   "source": [
    "Total_doses_administered=vaccine_df['Total Doses Administered'].sum()  #Total doses administered\n",
    "print('TOTAL DOSES ADMINISTERED ARE = {}'.format(Total_doses_administered))"
   ]
  },
  {
   "cell_type": "code",
   "execution_count": 13,
   "metadata": {},
   "outputs": [
    {
     "name": "stdout",
     "output_type": "stream",
     "text": [
      "Wasted shots = 2622459780.0\n"
     ]
    }
   ],
   "source": [
    "wastage_of_doses=(Total_doses_administered)-(vaccinated_60+vaccinated_45_60+vaccinated_18_44)\n",
    "print(\"Wasted shots = {}\".format(wastage_of_doses)) #Data is missing/records of this much shots are missing"
   ]
  },
  {
   "cell_type": "code",
   "execution_count": 14,
   "metadata": {},
   "outputs": [
    {
     "name": "stdout",
     "output_type": "stream",
     "text": [
      "5159672324.0\n"
     ]
    }
   ],
   "source": [
    "male_total_vaccinated=vaccine_df['Male(Individuals Vaccinated)'].sum()\n",
    "print(male_total_vaccinated)"
   ]
  },
  {
   "cell_type": "code",
   "execution_count": 15,
   "metadata": {},
   "outputs": [
    {
     "name": "stdout",
     "output_type": "stream",
     "text": [
      "4632367947.0\n"
     ]
    }
   ],
   "source": [
    "female_total_vaccinated=vaccine_df['Female(Individuals Vaccinated)'].sum()\n",
    "print(female_total_vaccinated)"
   ]
  },
  {
   "cell_type": "markdown",
   "metadata": {},
   "source": [
    "Q-1 ON WHICH DAY DOES MAXIMUM PEOPLE TAKE VACCINE?\n",
    "ANS-As we can see from  the graph below,maximum people get vaccinated on monday(denoted as 1st).Even on wednesday(3rd) and saturday(6th) many people get vaccinated.thursday(4) is the day where least amount of people gets vaccinated."
   ]
  },
  {
   "cell_type": "code",
   "execution_count": 155,
   "metadata": {},
   "outputs": [
    {
     "data": {
      "text/plain": [
       "<BarContainer object of 5184 artists>"
      ]
     },
     "execution_count": 155,
     "metadata": {},
     "output_type": "execute_result"
    },
    {
     "data": {
      "image/png": "[encoded data removed]",
      "text/plain": [
       "<Figure size 360x360 with 1 Axes>"
      ]
     },
     "metadata": {},
     "output_type": "display_data"
    }
   ],
   "source": [
    "vaccine_df['weekdays']=pd.DatetimeIndex(vaccine_df['Updated On']).weekday  #ADDING WEEKDAYS TO MAKE IT SIMPLER TO CALSSIFY INFORMATION\n",
    "plt.bar(vaccine_df['weekdays'],vaccine_df['Total Doses Administered'])"
   ]
  },
  {
   "cell_type": "code",
   "execution_count": 154,
   "metadata": {},
   "outputs": [
    {
     "name": "stdout",
     "output_type": "stream",
     "text": [
      "0             0.0\n",
      "1             0.0\n",
      "2             0.0\n",
      "3             0.0\n",
      "4             0.0\n",
      "          ...    \n",
      "5179    1749972.0\n",
      "5180    1806377.0\n",
      "5181    1825771.0\n",
      "5182    1878776.0\n",
      "5183          NaN\n",
      "Name: Total Covaxin Administered, Length: 5184, dtype: float64\n"
     ]
    }
   ],
   "source": [
    "total_covaxin=vaccine_df['Total Covaxin Administered']\n",
    "print(total_covaxin)"
   ]
  },
  {
   "cell_type": "code",
   "execution_count": 139,
   "metadata": {
    "scrolled": false
   },
   "outputs": [
    {
     "name": "stdout",
     "output_type": "stream",
     "text": [
      "0             23.0\n",
      "1             23.0\n",
      "2             42.0\n",
      "3             89.0\n",
      "4            124.0\n",
      "           ...    \n",
      "5179    13976518.0\n",
      "5180    14224775.0\n",
      "5181    14324178.0\n",
      "5182    14575103.0\n",
      "5183           NaN\n",
      "Name: Total CoviShield Administered, Length: 5184, dtype: float64\n"
     ]
    }
   ],
   "source": [
    "total_covisheild=vaccine_df['Total CoviShield Administered']\n",
    "print(total_covisheild)"
   ]
  },
  {
   "cell_type": "code",
   "execution_count": 140,
   "metadata": {},
   "outputs": [
    {
     "name": "stdout",
     "output_type": "stream",
     "text": [
      "0       NaN\n",
      "1       NaN\n",
      "2       NaN\n",
      "3       NaN\n",
      "4       NaN\n",
      "       ... \n",
      "5179    0.0\n",
      "5180    0.0\n",
      "5181    0.0\n",
      "5182    0.0\n",
      "5183    NaN\n",
      "Name: Total Sputnik V Administered, Length: 5184, dtype: float64\n"
     ]
    }
   ],
   "source": [
    "total_sputnik=vaccine_df['Total Sputnik V Administered']\n",
    "print(total_sputnik)"
   ]
  },
  {
   "cell_type": "code",
   "execution_count": 123,
   "metadata": {},
   "outputs": [
    {
     "name": "stdout",
     "output_type": "stream",
     "text": [
      "143504.0\n"
     ]
    }
   ],
   "source": [
    "total_aefi=vaccine_df['AEFI']\n",
    "print(total_sputnik)"
   ]
  },
  {
   "cell_type": "code",
   "execution_count": 97,
   "metadata": {},
   "outputs": [],
   "source": [
    "Andhrapradesh_df=vaccine_df[vaccine_df.State=='Andhra Pradesh']['Total Doses Administered'].sum()\n",
    "karnataka_df=vaccine_df[vaccine_df.State=='Karnataka']['Total Doses Administered'].sum()\n",
    "kerala_df=vaccine_df[vaccine_df.State=='Kerala']['Total Doses Administered'].sum()\n",
    "Lakshadweep_df=vaccine_df[vaccine_df.State=='Lakshadweep']['Total Doses Administered'].sum()\n",
    "puducherry_df=vaccine_df[vaccine_df.State=='Puducherry']['Total Doses Administered'].sum()\n",
    "Tamil_df=vaccine_df[vaccine_df.State=='Tamil Nadu']['Total Doses Administered']\n",
    "telangana_df=vaccine_df[vaccine_df.State=='Telangana']['Total Doses Administered'].sum()"
   ]
  },
  {
   "cell_type": "markdown",
   "metadata": {},
   "source": [
    "Q-2 WHICH VACCINE IS MOSTLY USED AND WHY IS OTHER VACCINE NOT WORKING?\n",
    "ANS-We can deduce that 'COVAXIN','COVISHIELD are used most frequently and the use of SPUTNIK and AEFI is quite low compared to the other too,especially we can can conclude that AEFI is almost never been used.According to the 'https://www.livemint.com' sputnik will be fully available in 9 indian cities and the flow of SPUTNIK will also be increased."
   ]
  },
  {
   "cell_type": "code",
   "execution_count": 152,
   "metadata": {},
   "outputs": [
    {
     "data": {
      "text/plain": [
       "<matplotlib.legend.Legend at 0x7f631ec583d0>"
      ]
     },
     "execution_count": 152,
     "metadata": {},
     "output_type": "execute_result"
    },
    {
     "data": {
      "image/png": "[encoded data removed]",
      "text/plain": [
       "<Figure size 360x360 with 1 Axes>"
      ]
     },
     "metadata": {},
     "output_type": "display_data"
    }
   ],
   "source": [
    "sns.set(rc={'figure.figsize':(5,5)})\n",
    "plt.hist([total_aefi,total_covaxin,total_covisheild,total_sputnik],bins=1)\n",
    "plt.legend(['AEFI','COVAXIN','COVISHEILD','SPUTNIK'])"
   ]
  },
  {
   "cell_type": "code",
   "execution_count": 37,
   "metadata": {},
   "outputs": [
    {
     "data": {
      "image/png": "[encoded data removed]",
      "text/plain": [
       "<Figure size 648x648 with 1 Axes>"
      ]
     },
     "metadata": {},
     "output_type": "display_data"
    }
   ],
   "source": [
    "plt.figure(figsize=(9,9))\n",
    "Andhrapradesh_df=vaccine_df[vaccine_df.State=='Andhra Pradesh']['Total Doses Administered'].sum()\n",
    "karnataka_df=vaccine_df[vaccine_df.State=='Karnataka']['Total Doses Administered'].sum()\n",
    "kerala_df=vaccine_df[vaccine_df.State=='Kerala']['Total Doses Administered'].sum()\n",
    "Lakshadweep_df=vaccine_df[vaccine_df.State=='Lakshadweep']['Total Doses Administered'].sum()\n",
    "puducherry_df=vaccine_df[vaccine_df.State=='Puducherry']['Total Doses Administered'].sum()\n",
    "Tamil_df=vaccine_df[vaccine_df.State=='Tamil Nadu']['Total Doses Administered'].sum()\n",
    "telangana_df=vaccine_df[vaccine_df.State=='Telangana']['Total Doses Administered'].sum()\n",
    "south_india_vaccine_status=[Andhrapradesh_df,karnataka_df,kerala_df,Lakshadweep_df,puducherry_df,Tamil_df,telangana_df]\n",
    "south_india=['Andhra pradesh','Karnataka','kerala','Lakshadweep','puducherry','Tamil Nadu','Telangana']\n",
    "plt.pie(south_india_vaccine_status,labels=south_india)\n",
    "plt.legend(['Andhra pradesh','Karnataka','kerala','Lakshadweep','puducherry','Tamil Nadu','Telangana'])\n",
    "plt.show()"
   ]
  },
  {
   "cell_type": "code",
   "execution_count": null,
   "metadata": {},
   "outputs": [],
   "source": []
  },
  {
   "cell_type": "code",
   "execution_count": null,
   "metadata": {},
   "outputs": [],
   "source": []
  }
 ],
 "metadata": {
  "kernelspec": {
   "display_name": "Python 3",
   "language": "python",
   "name": "python3"
  },
  "language_info": {
   "codemirror_mode": {
    "name": "ipython",
    "version": 3
   },
   "file_extension": ".py",
   "mimetype": "text/x-python",
   "name": "python",
   "nbconvert_exporter": "python",
   "pygments_lexer": "ipython3",
   "version": "3.8.6"
  }
 },
 "nbformat": 4,
 "nbformat_minor": 2
}
